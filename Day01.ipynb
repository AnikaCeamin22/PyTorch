{
  "nbformat": 4,
  "nbformat_minor": 0,
  "metadata": {
    "colab": {
      "provenance": [],
      "gpuType": "T4",
      "authorship_tag": "ABX9TyMd3KQ1FkvuZ6R7+elsLYuA",
      "include_colab_link": true
    },
    "kernelspec": {
      "name": "python3",
      "display_name": "Python 3"
    },
    "language_info": {
      "name": "python"
    },
    "accelerator": "GPU"
  },
  "cells": [
    {
      "cell_type": "markdown",
      "metadata": {
        "id": "view-in-github",
        "colab_type": "text"
      },
      "source": [
        "<a href=\"https://colab.research.google.com/github/AnikaCeamin22/PyTorch/blob/main/Day01.ipynb\" target=\"_parent\"><img src=\"https://colab.research.google.com/assets/colab-badge.svg\" alt=\"Open In Colab\"/></a>"
      ]
    },
    {
      "cell_type": "code",
      "execution_count": 1,
      "metadata": {
        "id": "qaCIZRtp51km",
        "colab": {
          "base_uri": "https://localhost:8080/"
        },
        "outputId": "ddb2c579-719b-499b-dcfb-27b9da0b7aea"
      },
      "outputs": [
        {
          "output_type": "stream",
          "name": "stdout",
          "text": [
            "Hello I am excited to learn PyTorch\n"
          ]
        }
      ],
      "source": [
        "print(\"Hello I am excited to learn PyTorch\")"
      ]
    },
    {
      "cell_type": "code",
      "source": [
        "# how i can access to a GPU\n",
        "! nvidia-smi"
      ],
      "metadata": {
        "id": "fDcd2Tt657hv",
        "colab": {
          "base_uri": "https://localhost:8080/"
        },
        "outputId": "0bc4aba0-3a4a-456a-f742-b02b4f63f0eb"
      },
      "execution_count": 2,
      "outputs": [
        {
          "output_type": "stream",
          "name": "stdout",
          "text": [
            "Wed May 28 09:25:37 2025       \n",
            "+-----------------------------------------------------------------------------------------+\n",
            "| NVIDIA-SMI 550.54.15              Driver Version: 550.54.15      CUDA Version: 12.4     |\n",
            "|-----------------------------------------+------------------------+----------------------+\n",
            "| GPU  Name                 Persistence-M | Bus-Id          Disp.A | Volatile Uncorr. ECC |\n",
            "| Fan  Temp   Perf          Pwr:Usage/Cap |           Memory-Usage | GPU-Util  Compute M. |\n",
            "|                                         |                        |               MIG M. |\n",
            "|=========================================+========================+======================|\n",
            "|   0  Tesla T4                       Off |   00000000:00:04.0 Off |                    0 |\n",
            "| N/A   36C    P8              9W /   70W |       0MiB /  15360MiB |      0%      Default |\n",
            "|                                         |                        |                  N/A |\n",
            "+-----------------------------------------+------------------------+----------------------+\n",
            "                                                                                         \n",
            "+-----------------------------------------------------------------------------------------+\n",
            "| Processes:                                                                              |\n",
            "|  GPU   GI   CI        PID   Type   Process name                              GPU Memory |\n",
            "|        ID   ID                                                               Usage      |\n",
            "|=========================================================================================|\n",
            "|  No running processes found                                                             |\n",
            "+-----------------------------------------------------------------------------------------+\n"
          ]
        }
      ]
    },
    {
      "cell_type": "code",
      "source": [
        "import torch\n",
        "import pandas as pd\n",
        "import numpy as np\n",
        "import matplotlib.pyplot as plt\n",
        "print(torch.__version__)"
      ],
      "metadata": {
        "colab": {
          "base_uri": "https://localhost:8080/"
        },
        "id": "W3gkVMTW9xB_",
        "outputId": "7afc8518-a876-45bd-dcaf-4e6f3b23cd37"
      },
      "execution_count": 3,
      "outputs": [
        {
          "output_type": "stream",
          "name": "stdout",
          "text": [
            "2.6.0+cu124\n"
          ]
        }
      ]
    },
    {
      "cell_type": "markdown",
      "source": [
        "## Introduction to Tensors\n",
        "\n",
        "### Creating Tensors\n",
        "\n",
        "Pytorch tensors are created using `torch.Tensor` = https://docs.pytorch.org/docs/stable/tensors.html"
      ],
      "metadata": {
        "id": "fZIvZNQBAxn7"
      }
    },
    {
      "cell_type": "code",
      "source": [
        "# scalar\n",
        "scalar = torch.tensor(7)\n",
        "scalar"
      ],
      "metadata": {
        "colab": {
          "base_uri": "https://localhost:8080/"
        },
        "id": "6Ag2ZWdlA0gb",
        "outputId": "bfbb3592-a00c-4656-a2f7-3af2198da596"
      },
      "execution_count": 4,
      "outputs": [
        {
          "output_type": "execute_result",
          "data": {
            "text/plain": [
              "tensor(7)"
            ]
          },
          "metadata": {},
          "execution_count": 4
        }
      ]
    },
    {
      "cell_type": "code",
      "source": [
        "# Number of dimention\n",
        "scalar.ndim"
      ],
      "metadata": {
        "colab": {
          "base_uri": "https://localhost:8080/"
        },
        "id": "qdR21Qt9CMgS",
        "outputId": "57a43a78-252c-4714-dbd9-0976d362cfbb"
      },
      "execution_count": 5,
      "outputs": [
        {
          "output_type": "execute_result",
          "data": {
            "text/plain": [
              "0"
            ]
          },
          "metadata": {},
          "execution_count": 5
        }
      ]
    },
    {
      "cell_type": "code",
      "source": [
        "# Get tensor back as Pyton int\n",
        "scalar.item()"
      ],
      "metadata": {
        "colab": {
          "base_uri": "https://localhost:8080/"
        },
        "id": "WZC3-dF5Czk0",
        "outputId": "b9974530-d39b-41ce-cafd-3e0203f523d0"
      },
      "execution_count": 6,
      "outputs": [
        {
          "output_type": "execute_result",
          "data": {
            "text/plain": [
              "7"
            ]
          },
          "metadata": {},
          "execution_count": 6
        }
      ]
    },
    {
      "cell_type": "code",
      "source": [
        "# Vector\n",
        "vector = torch.tensor([9,9])\n",
        "vector"
      ],
      "metadata": {
        "colab": {
          "base_uri": "https://localhost:8080/"
        },
        "id": "LzZ62xufC9wL",
        "outputId": "861da62a-3ec6-473e-b13b-51668607209c"
      },
      "execution_count": 7,
      "outputs": [
        {
          "output_type": "execute_result",
          "data": {
            "text/plain": [
              "tensor([9, 9])"
            ]
          },
          "metadata": {},
          "execution_count": 7
        }
      ]
    },
    {
      "cell_type": "code",
      "source": [
        "vector.ndim"
      ],
      "metadata": {
        "colab": {
          "base_uri": "https://localhost:8080/"
        },
        "id": "auvtT0KIDOJd",
        "outputId": "214a0ea7-449a-4ba0-cf50-4effa116b52e"
      },
      "execution_count": 8,
      "outputs": [
        {
          "output_type": "execute_result",
          "data": {
            "text/plain": [
              "1"
            ]
          },
          "metadata": {},
          "execution_count": 8
        }
      ]
    },
    {
      "cell_type": "code",
      "source": [
        "vector.shape"
      ],
      "metadata": {
        "colab": {
          "base_uri": "https://localhost:8080/"
        },
        "id": "FGgI3WN-DpKP",
        "outputId": "7e95c836-b175-41cc-9aca-04e49ec95b33"
      },
      "execution_count": 9,
      "outputs": [
        {
          "output_type": "execute_result",
          "data": {
            "text/plain": [
              "torch.Size([2])"
            ]
          },
          "metadata": {},
          "execution_count": 9
        }
      ]
    },
    {
      "cell_type": "code",
      "source": [
        "# Matrix\n",
        "MATRIX = torch.tensor([[1,2],[3,4]])\n",
        "MATRIX"
      ],
      "metadata": {
        "colab": {
          "base_uri": "https://localhost:8080/"
        },
        "id": "xGghvsEhDqij",
        "outputId": "6606dbd5-840c-4b34-bfca-21ba55760b9b"
      },
      "execution_count": 10,
      "outputs": [
        {
          "output_type": "execute_result",
          "data": {
            "text/plain": [
              "tensor([[1, 2],\n",
              "        [3, 4]])"
            ]
          },
          "metadata": {},
          "execution_count": 10
        }
      ]
    },
    {
      "cell_type": "code",
      "source": [
        "MATRIX.ndim"
      ],
      "metadata": {
        "colab": {
          "base_uri": "https://localhost:8080/"
        },
        "id": "JCz5Sd46EDKL",
        "outputId": "43dfcdfd-400e-42de-9d91-6e456553b909"
      },
      "execution_count": 11,
      "outputs": [
        {
          "output_type": "execute_result",
          "data": {
            "text/plain": [
              "2"
            ]
          },
          "metadata": {},
          "execution_count": 11
        }
      ]
    },
    {
      "cell_type": "code",
      "source": [
        "MATRIX.shape"
      ],
      "metadata": {
        "colab": {
          "base_uri": "https://localhost:8080/"
        },
        "id": "WHn6SDNJEJWT",
        "outputId": "05081895-8562-4ea8-e73b-a52ecb3ea4f9"
      },
      "execution_count": 12,
      "outputs": [
        {
          "output_type": "execute_result",
          "data": {
            "text/plain": [
              "torch.Size([2, 2])"
            ]
          },
          "metadata": {},
          "execution_count": 12
        }
      ]
    },
    {
      "cell_type": "code",
      "source": [
        "# Tensor\n",
        "TENSOR = torch.tensor([[[1,2,3],[4,5,6],[7,8,9],[1,3,6]]])\n",
        "TENSOR"
      ],
      "metadata": {
        "colab": {
          "base_uri": "https://localhost:8080/"
        },
        "id": "_NzlBsRqEY9c",
        "outputId": "4a2c2c3f-3e91-43d9-93b5-0ef614d3b45f"
      },
      "execution_count": 13,
      "outputs": [
        {
          "output_type": "execute_result",
          "data": {
            "text/plain": [
              "tensor([[[1, 2, 3],\n",
              "         [4, 5, 6],\n",
              "         [7, 8, 9],\n",
              "         [1, 3, 6]]])"
            ]
          },
          "metadata": {},
          "execution_count": 13
        }
      ]
    },
    {
      "cell_type": "code",
      "source": [
        "TENSOR.ndim"
      ],
      "metadata": {
        "colab": {
          "base_uri": "https://localhost:8080/"
        },
        "id": "ETNmRgQfEtM1",
        "outputId": "b6ce9152-d901-4fa3-e68a-ab8c28fcb674"
      },
      "execution_count": 14,
      "outputs": [
        {
          "output_type": "execute_result",
          "data": {
            "text/plain": [
              "3"
            ]
          },
          "metadata": {},
          "execution_count": 14
        }
      ]
    },
    {
      "cell_type": "code",
      "source": [
        "TENSOR.shape"
      ],
      "metadata": {
        "colab": {
          "base_uri": "https://localhost:8080/"
        },
        "id": "pvXc23KQExiL",
        "outputId": "65ed185f-e4d7-4d76-9bad-b9f6d0511af3"
      },
      "execution_count": 15,
      "outputs": [
        {
          "output_type": "execute_result",
          "data": {
            "text/plain": [
              "torch.Size([1, 4, 3])"
            ]
          },
          "metadata": {},
          "execution_count": 15
        }
      ]
    },
    {
      "cell_type": "markdown",
      "source": [
        "### Random Tensors\n",
        "\n",
        "Why random tensors?\n",
        "Random Tensrs are important because the way many neural networks learn is that they start with tensors full of random numbers and then adjust those random numbers to better represent the data.\n",
        "\n",
        "Start with random numbers->look at data->update random numbers->look at data->updata random numbers\n",
        "\n",
        "Torch random tensor - https://docs.pytorch.org/docs/stable/generated/torch.rand.html"
      ],
      "metadata": {
        "id": "XvvDaM4GGK8E"
      }
    },
    {
      "cell_type": "code",
      "source": [
        "# create a random tensor of size(3,4)\n",
        "random_tensor = torch.rand(22,9,1)\n",
        "random_tensor"
      ],
      "metadata": {
        "colab": {
          "base_uri": "https://localhost:8080/"
        },
        "id": "YP_pw2QzE23p",
        "outputId": "1693fb01-d142-4b9e-fa26-abe816b985fa"
      },
      "execution_count": 16,
      "outputs": [
        {
          "output_type": "execute_result",
          "data": {
            "text/plain": [
              "tensor([[[0.2729],\n",
              "         [0.7203],\n",
              "         [0.8026],\n",
              "         [0.4367],\n",
              "         [0.7195],\n",
              "         [0.5523],\n",
              "         [0.5440],\n",
              "         [0.2759],\n",
              "         [0.4271]],\n",
              "\n",
              "        [[0.7303],\n",
              "         [0.3377],\n",
              "         [0.0844],\n",
              "         [0.0062],\n",
              "         [0.5325],\n",
              "         [0.9807],\n",
              "         [0.1491],\n",
              "         [0.8140],\n",
              "         [0.4449]],\n",
              "\n",
              "        [[0.1485],\n",
              "         [0.0620],\n",
              "         [0.3135],\n",
              "         [0.0088],\n",
              "         [0.5854],\n",
              "         [0.1034],\n",
              "         [0.5673],\n",
              "         [0.2983],\n",
              "         [0.1199]],\n",
              "\n",
              "        [[0.6663],\n",
              "         [0.7273],\n",
              "         [0.7256],\n",
              "         [0.2520],\n",
              "         [0.2013],\n",
              "         [0.9974],\n",
              "         [0.4955],\n",
              "         [0.3939],\n",
              "         [0.1438]],\n",
              "\n",
              "        [[0.9972],\n",
              "         [0.9735],\n",
              "         [0.8664],\n",
              "         [0.4151],\n",
              "         [0.8563],\n",
              "         [0.8916],\n",
              "         [0.3500],\n",
              "         [0.4493],\n",
              "         [0.5370]],\n",
              "\n",
              "        [[0.8835],\n",
              "         [0.5299],\n",
              "         [0.1437],\n",
              "         [0.4196],\n",
              "         [0.2624],\n",
              "         [0.4695],\n",
              "         [0.9749],\n",
              "         [0.2226],\n",
              "         [0.5550]],\n",
              "\n",
              "        [[0.5548],\n",
              "         [0.2790],\n",
              "         [0.6341],\n",
              "         [0.1715],\n",
              "         [0.1429],\n",
              "         [0.5981],\n",
              "         [0.4652],\n",
              "         [0.5236],\n",
              "         [0.7042]],\n",
              "\n",
              "        [[0.0067],\n",
              "         [0.0790],\n",
              "         [0.1053],\n",
              "         [0.1237],\n",
              "         [0.6808],\n",
              "         [0.0289],\n",
              "         [0.7549],\n",
              "         [0.5716],\n",
              "         [0.4885]],\n",
              "\n",
              "        [[0.0498],\n",
              "         [0.8146],\n",
              "         [0.4846],\n",
              "         [0.1186],\n",
              "         [0.6234],\n",
              "         [0.4807],\n",
              "         [0.4183],\n",
              "         [0.4368],\n",
              "         [0.8883]],\n",
              "\n",
              "        [[0.0448],\n",
              "         [0.8668],\n",
              "         [0.6644],\n",
              "         [0.7385],\n",
              "         [0.4530],\n",
              "         [0.0734],\n",
              "         [0.3864],\n",
              "         [0.7433],\n",
              "         [0.3858]],\n",
              "\n",
              "        [[0.3784],\n",
              "         [0.5477],\n",
              "         [0.9352],\n",
              "         [0.8485],\n",
              "         [0.9040],\n",
              "         [0.4966],\n",
              "         [0.1298],\n",
              "         [0.6126],\n",
              "         [0.8226]],\n",
              "\n",
              "        [[0.6415],\n",
              "         [0.7768],\n",
              "         [0.5524],\n",
              "         [0.5659],\n",
              "         [0.5707],\n",
              "         [0.2939],\n",
              "         [0.7065],\n",
              "         [0.2228],\n",
              "         [0.9319]],\n",
              "\n",
              "        [[0.3808],\n",
              "         [0.5318],\n",
              "         [0.6693],\n",
              "         [0.1842],\n",
              "         [0.9630],\n",
              "         [0.3152],\n",
              "         [0.0627],\n",
              "         [0.3774],\n",
              "         [0.2726]],\n",
              "\n",
              "        [[0.3558],\n",
              "         [0.8505],\n",
              "         [0.6189],\n",
              "         [0.1560],\n",
              "         [0.3449],\n",
              "         [0.1241],\n",
              "         [0.8014],\n",
              "         [0.8883],\n",
              "         [0.7295]],\n",
              "\n",
              "        [[0.6412],\n",
              "         [0.7709],\n",
              "         [0.0665],\n",
              "         [0.5730],\n",
              "         [0.0225],\n",
              "         [0.5786],\n",
              "         [0.3690],\n",
              "         [0.4621],\n",
              "         [0.0774]],\n",
              "\n",
              "        [[0.9945],\n",
              "         [0.3906],\n",
              "         [0.1638],\n",
              "         [0.3112],\n",
              "         [0.9525],\n",
              "         [0.7711],\n",
              "         [0.1308],\n",
              "         [0.5829],\n",
              "         [0.9885]],\n",
              "\n",
              "        [[0.0314],\n",
              "         [0.1546],\n",
              "         [0.8131],\n",
              "         [0.8030],\n",
              "         [0.5432],\n",
              "         [0.8671],\n",
              "         [0.1647],\n",
              "         [0.8225],\n",
              "         [0.0613]],\n",
              "\n",
              "        [[0.4774],\n",
              "         [0.7192],\n",
              "         [0.2718],\n",
              "         [0.4787],\n",
              "         [0.2567],\n",
              "         [0.5651],\n",
              "         [0.0351],\n",
              "         [0.2684],\n",
              "         [0.8324]],\n",
              "\n",
              "        [[0.8285],\n",
              "         [0.1988],\n",
              "         [0.2497],\n",
              "         [0.7103],\n",
              "         [0.7137],\n",
              "         [0.6313],\n",
              "         [0.2439],\n",
              "         [0.1674],\n",
              "         [0.0438]],\n",
              "\n",
              "        [[0.4903],\n",
              "         [0.3969],\n",
              "         [0.0803],\n",
              "         [0.2523],\n",
              "         [0.8802],\n",
              "         [0.2081],\n",
              "         [0.5708],\n",
              "         [0.9447],\n",
              "         [0.6265]],\n",
              "\n",
              "        [[0.4816],\n",
              "         [0.3283],\n",
              "         [0.7658],\n",
              "         [0.1214],\n",
              "         [0.2327],\n",
              "         [0.2267],\n",
              "         [0.1433],\n",
              "         [0.7711],\n",
              "         [0.6233]],\n",
              "\n",
              "        [[0.5003],\n",
              "         [0.1162],\n",
              "         [0.9777],\n",
              "         [0.6455],\n",
              "         [0.6483],\n",
              "         [0.7475],\n",
              "         [0.0542],\n",
              "         [0.9858],\n",
              "         [0.8593]]])"
            ]
          },
          "metadata": {},
          "execution_count": 16
        }
      ]
    },
    {
      "cell_type": "code",
      "source": [
        "random_tensor.ndim"
      ],
      "metadata": {
        "colab": {
          "base_uri": "https://localhost:8080/"
        },
        "id": "9ubkBr7WIafk",
        "outputId": "fa3f0b10-5a32-4300-a3f6-e820eeddf3eb"
      },
      "execution_count": 17,
      "outputs": [
        {
          "output_type": "execute_result",
          "data": {
            "text/plain": [
              "3"
            ]
          },
          "metadata": {},
          "execution_count": 17
        }
      ]
    },
    {
      "cell_type": "code",
      "source": [
        "random_tensor.shape"
      ],
      "metadata": {
        "colab": {
          "base_uri": "https://localhost:8080/"
        },
        "id": "qviKqh-0Ip8y",
        "outputId": "5abe4a0c-2623-4f0a-df21-2a08f313fddd"
      },
      "execution_count": 18,
      "outputs": [
        {
          "output_type": "execute_result",
          "data": {
            "text/plain": [
              "torch.Size([22, 9, 1])"
            ]
          },
          "metadata": {},
          "execution_count": 18
        }
      ]
    },
    {
      "cell_type": "code",
      "source": [
        "# Create a random tensor with similar shapes to an image tensor\n",
        "random_image_size_tensor = torch.rand(size=(3,22,9)) # colour channels(R,G,B),hight, width\n",
        "random_image_size_tensor;"
      ],
      "metadata": {
        "id": "NUXB0q_yI7Tb"
      },
      "execution_count": 19,
      "outputs": []
    },
    {
      "cell_type": "code",
      "source": [
        "random_image_size_tensor.ndim"
      ],
      "metadata": {
        "colab": {
          "base_uri": "https://localhost:8080/"
        },
        "id": "YGSQvs7IJuW9",
        "outputId": "ebc22b39-c521-41aa-b92d-67a5ad2d9ffe"
      },
      "execution_count": 20,
      "outputs": [
        {
          "output_type": "execute_result",
          "data": {
            "text/plain": [
              "3"
            ]
          },
          "metadata": {},
          "execution_count": 20
        }
      ]
    },
    {
      "cell_type": "code",
      "source": [
        "random_image_size_tensor.shape"
      ],
      "metadata": {
        "colab": {
          "base_uri": "https://localhost:8080/"
        },
        "id": "9L-iFywfJwsr",
        "outputId": "1f3366a5-c8d5-4291-83b4-9735bfbd3f52"
      },
      "execution_count": 21,
      "outputs": [
        {
          "output_type": "execute_result",
          "data": {
            "text/plain": [
              "torch.Size([3, 22, 9])"
            ]
          },
          "metadata": {},
          "execution_count": 21
        }
      ]
    },
    {
      "cell_type": "markdown",
      "source": [
        "### Create zeros and ones"
      ],
      "metadata": {
        "id": "dpRRyIKmKmy9"
      }
    },
    {
      "cell_type": "code",
      "source": [
        "# Create a tensor of all zeros\n",
        "zeros = torch.zeros(size=(22,9))\n",
        "zeros"
      ],
      "metadata": {
        "colab": {
          "base_uri": "https://localhost:8080/"
        },
        "id": "T3stH_ouJ52z",
        "outputId": "5b53f33f-87dc-495b-f850-898f8a529e0c"
      },
      "execution_count": 22,
      "outputs": [
        {
          "output_type": "execute_result",
          "data": {
            "text/plain": [
              "tensor([[0., 0., 0., 0., 0., 0., 0., 0., 0.],\n",
              "        [0., 0., 0., 0., 0., 0., 0., 0., 0.],\n",
              "        [0., 0., 0., 0., 0., 0., 0., 0., 0.],\n",
              "        [0., 0., 0., 0., 0., 0., 0., 0., 0.],\n",
              "        [0., 0., 0., 0., 0., 0., 0., 0., 0.],\n",
              "        [0., 0., 0., 0., 0., 0., 0., 0., 0.],\n",
              "        [0., 0., 0., 0., 0., 0., 0., 0., 0.],\n",
              "        [0., 0., 0., 0., 0., 0., 0., 0., 0.],\n",
              "        [0., 0., 0., 0., 0., 0., 0., 0., 0.],\n",
              "        [0., 0., 0., 0., 0., 0., 0., 0., 0.],\n",
              "        [0., 0., 0., 0., 0., 0., 0., 0., 0.],\n",
              "        [0., 0., 0., 0., 0., 0., 0., 0., 0.],\n",
              "        [0., 0., 0., 0., 0., 0., 0., 0., 0.],\n",
              "        [0., 0., 0., 0., 0., 0., 0., 0., 0.],\n",
              "        [0., 0., 0., 0., 0., 0., 0., 0., 0.],\n",
              "        [0., 0., 0., 0., 0., 0., 0., 0., 0.],\n",
              "        [0., 0., 0., 0., 0., 0., 0., 0., 0.],\n",
              "        [0., 0., 0., 0., 0., 0., 0., 0., 0.],\n",
              "        [0., 0., 0., 0., 0., 0., 0., 0., 0.],\n",
              "        [0., 0., 0., 0., 0., 0., 0., 0., 0.],\n",
              "        [0., 0., 0., 0., 0., 0., 0., 0., 0.],\n",
              "        [0., 0., 0., 0., 0., 0., 0., 0., 0.]])"
            ]
          },
          "metadata": {},
          "execution_count": 22
        }
      ]
    },
    {
      "cell_type": "code",
      "source": [
        "# Create a tensor of all ones\n",
        "ones = torch.ones(size=(22,9));\n",
        "ones"
      ],
      "metadata": {
        "colab": {
          "base_uri": "https://localhost:8080/"
        },
        "id": "TjBFQQCJLBNc",
        "outputId": "c6b1de1f-a810-4e84-c0ea-254ddce91605"
      },
      "execution_count": 23,
      "outputs": [
        {
          "output_type": "execute_result",
          "data": {
            "text/plain": [
              "tensor([[1., 1., 1., 1., 1., 1., 1., 1., 1.],\n",
              "        [1., 1., 1., 1., 1., 1., 1., 1., 1.],\n",
              "        [1., 1., 1., 1., 1., 1., 1., 1., 1.],\n",
              "        [1., 1., 1., 1., 1., 1., 1., 1., 1.],\n",
              "        [1., 1., 1., 1., 1., 1., 1., 1., 1.],\n",
              "        [1., 1., 1., 1., 1., 1., 1., 1., 1.],\n",
              "        [1., 1., 1., 1., 1., 1., 1., 1., 1.],\n",
              "        [1., 1., 1., 1., 1., 1., 1., 1., 1.],\n",
              "        [1., 1., 1., 1., 1., 1., 1., 1., 1.],\n",
              "        [1., 1., 1., 1., 1., 1., 1., 1., 1.],\n",
              "        [1., 1., 1., 1., 1., 1., 1., 1., 1.],\n",
              "        [1., 1., 1., 1., 1., 1., 1., 1., 1.],\n",
              "        [1., 1., 1., 1., 1., 1., 1., 1., 1.],\n",
              "        [1., 1., 1., 1., 1., 1., 1., 1., 1.],\n",
              "        [1., 1., 1., 1., 1., 1., 1., 1., 1.],\n",
              "        [1., 1., 1., 1., 1., 1., 1., 1., 1.],\n",
              "        [1., 1., 1., 1., 1., 1., 1., 1., 1.],\n",
              "        [1., 1., 1., 1., 1., 1., 1., 1., 1.],\n",
              "        [1., 1., 1., 1., 1., 1., 1., 1., 1.],\n",
              "        [1., 1., 1., 1., 1., 1., 1., 1., 1.],\n",
              "        [1., 1., 1., 1., 1., 1., 1., 1., 1.],\n",
              "        [1., 1., 1., 1., 1., 1., 1., 1., 1.]])"
            ]
          },
          "metadata": {},
          "execution_count": 23
        }
      ]
    },
    {
      "cell_type": "code",
      "source": [
        "# torch default data type float32\n",
        "ones.dtype"
      ],
      "metadata": {
        "colab": {
          "base_uri": "https://localhost:8080/"
        },
        "id": "CrqZheUTLMQN",
        "outputId": "b77c90af-4b97-4a44-8a73-92036c8334d9"
      },
      "execution_count": 24,
      "outputs": [
        {
          "output_type": "execute_result",
          "data": {
            "text/plain": [
              "torch.float32"
            ]
          },
          "metadata": {},
          "execution_count": 24
        }
      ]
    },
    {
      "cell_type": "markdown",
      "source": [
        "### Creating a range of tensors and tensors-like"
      ],
      "metadata": {
        "id": "fMJOyo_gLm9b"
      }
    },
    {
      "cell_type": "code",
      "source": [
        "# Use torch.range()\n",
        "torch.range(9,22+1)"
      ],
      "metadata": {
        "colab": {
          "base_uri": "https://localhost:8080/"
        },
        "id": "MbB6pmthLcF9",
        "outputId": "eebc9bcd-13c2-4bb8-b172-eda4d86ae2a3"
      },
      "execution_count": 25,
      "outputs": [
        {
          "output_type": "stream",
          "name": "stderr",
          "text": [
            "<ipython-input-25-a8845703d5ea>:2: UserWarning: torch.range is deprecated and will be removed in a future release because its behavior is inconsistent with Python's range builtin. Instead, use torch.arange, which produces values in [start, end).\n",
            "  torch.range(9,22+1)\n"
          ]
        },
        {
          "output_type": "execute_result",
          "data": {
            "text/plain": [
              "tensor([ 9., 10., 11., 12., 13., 14., 15., 16., 17., 18., 19., 20., 21., 22.,\n",
              "        23.])"
            ]
          },
          "metadata": {},
          "execution_count": 25
        }
      ]
    },
    {
      "cell_type": "code",
      "source": [
        "# Use torch.range() and get deprecated message, use torch.arange()\n",
        "torch.arange(start = 9, end = 22+1, step = 1.5)"
      ],
      "metadata": {
        "colab": {
          "base_uri": "https://localhost:8080/"
        },
        "id": "DsnISammMHRk",
        "outputId": "73880075-8409-4282-8fde-735e0ebdf868"
      },
      "execution_count": 28,
      "outputs": [
        {
          "output_type": "execute_result",
          "data": {
            "text/plain": [
              "tensor([ 9.0000, 10.5000, 12.0000, 13.5000, 15.0000, 16.5000, 18.0000, 19.5000,\n",
              "        21.0000, 22.5000])"
            ]
          },
          "metadata": {},
          "execution_count": 28
        }
      ]
    },
    {
      "cell_type": "code",
      "source": [
        "# Creating tensors like\n",
        "one_to_ten = torch.arange(1,10)\n",
        "ten_zeros = torch.zeros_like(input = one_to_ten);\n",
        "ten_zeros"
      ],
      "metadata": {
        "colab": {
          "base_uri": "https://localhost:8080/"
        },
        "id": "ozybOfuZMosW",
        "outputId": "01ec396b-03e7-4f6f-eeb6-690b29e003f7"
      },
      "execution_count": 29,
      "outputs": [
        {
          "output_type": "execute_result",
          "data": {
            "text/plain": [
              "tensor([0, 0, 0, 0, 0, 0, 0, 0, 0])"
            ]
          },
          "metadata": {},
          "execution_count": 29
        }
      ]
    },
    {
      "cell_type": "code",
      "source": [],
      "metadata": {
        "id": "hUSfaJ6pNkZn"
      },
      "execution_count": null,
      "outputs": []
    }
  ]
}